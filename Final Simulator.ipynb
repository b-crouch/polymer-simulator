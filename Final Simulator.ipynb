{
 "cells": [
  {
   "cell_type": "markdown",
   "metadata": {},
   "source": [
    "# Simulator for Idealized Polymer Conformations"
   ]
  },
  {
   "cell_type": "code",
   "execution_count": 3,
   "metadata": {},
   "outputs": [],
   "source": [
    "import numpy as np\n",
    "import plotly.express as px\n",
    "from plotly.subplots import make_subplots\n",
    "import plotly.graph_objects as go\n",
    "import pandas as pd\n",
    "import regex as re\n",
    "from itertools import cycle\n",
    "import math\n",
    "import ipywidgets as widgets\n",
    "\n",
    "bond_lengths = pd.read_csv(\"Bond Lengths.csv\", index_col=0)"
   ]
  },
  {
   "cell_type": "code",
   "execution_count": 4,
   "metadata": {},
   "outputs": [],
   "source": [
    "def fjc(blengths_cycle, n_mon, bpm):\n",
    "    \"\"\"Generate arrays of x, y, z coordinates under the freely jointed chain model\n",
    "    Parameters: \n",
    "    blengths (cycle): cycle containing length of each bond in each repeat unit\n",
    "    n_mon (int): number of repeat units in chain\n",
    "    bpm (int): number of bonds in each repeat unit\n",
    "    \n",
    "    Returns:\n",
    "    x, y, z (arrays): arrays containing coordinates for each atom in the polymer chain\n",
    "    \"\"\"\n",
    "    x, y, z = np.zeros((1, 1)), np.zeros((1, 1)), np.zeros((1, 1))\n",
    "    for i in np.arange(n_mon*bpm):\n",
    "        prev_x, prev_y, prev_z = x[i], y[i], z[i]\n",
    "        blength = next(blengths_cycle)\n",
    "        assert not math.isnan(blength), \"No data for bond type\"\n",
    "        new_x = np.random.choice(np.linspace(-blength, blength, 1000))\n",
    "        new_y = np.random.choice(np.linspace(-np.sqrt(blength**2-new_x**2), np.sqrt(blength**2-new_x**2), 1000))\n",
    "        new_z = np.random.choice([-1, 1])*np.sqrt(np.round((blength**2)-(new_x**2)-(new_y**2), 5))\n",
    "        x, y, z = np.append(x, prev_x+new_x), np.append(y, prev_y+new_y), np.append(z, prev_z+new_z) \n",
    "    return x, y, z\n",
    "\n",
    "def frc(blengths_cycle, n_mon, bpm, bangle):\n",
    "    \"\"\"Generate arrays of x, y, z coordinates under the freely rotating chain model\n",
    "    Parameters: \n",
    "    blengths (cycle): cycle containing length of each bond in each repeat unit\n",
    "    n_mon (int): number of repeat units in chain\n",
    "    bpm (int): number of bonds in each repeat unit\n",
    "    bangle (int): bond angle between successive backbone species\n",
    "    \n",
    "    Returns:\n",
    "    x, y, z (arrays): arrays containing coordinates for each atom in the polymer chain\n",
    "    \"\"\"\n",
    "    half_rad = np.pi - bangle*np.pi/180\n",
    "    x, y, z = fjc(blengths_cycle, 1, 1)\n",
    "    for i in np.arange(1, n_mon*bpm-1):\n",
    "        blength = next(blengths_cycle)\n",
    "        assert not math.isnan(blength), \"No data for bond type\"\n",
    "        \n",
    "        prev_x, prev_y, prev_z = x[i], y[i], z[i]\n",
    "        twoprev_x, twoprev_y, twoprev_z = x[i-1], y[i-1], z[i-1]\n",
    "        \n",
    "        x_length = abs(blength*np.cos(half_rad))\n",
    "        \n",
    "        x_vec = np.array([prev_x - twoprev_x, prev_y - twoprev_y, prev_z - twoprev_z])\n",
    "        x_vec /= np.sqrt(np.sum(x_vec**2))\n",
    "        y_vec = np.array([-1/x_vec[0], 1/x_vec[1], 0])\n",
    "        y_vec /= np.sqrt(np.sum(y_vec**2))\n",
    "        z_vec = np.cross(x_vec, y_vec)\n",
    "        z_vec /= np.sqrt(np.sum(z_vec**2))\n",
    "        \n",
    "        x_proj =  x_vec*x_length\n",
    "        yz_length = abs(blength*np.sin(half_rad))\n",
    "        y_length = np.random.choice(np.linspace(-yz_length, yz_length, 10000))\n",
    "        y_proj = y_length*y_vec\n",
    "        z_length = np.random.choice([-1, 1])*np.sqrt(yz_length**2 - y_length**2)\n",
    "        z_proj =  z_length*z_vec\n",
    "        new_vec = x_proj + y_proj + z_proj\n",
    "        x, y, z = np.append(x, prev_x + new_vec[0]), np.append(y, prev_y + new_vec[1]), np.append(z, prev_z + new_vec[2])\n",
    "    return x, y, z\n",
    "\n",
    "def ris(blengths_cycle, n_mon, bpm, bangle):\n",
    "    \"\"\"Generate arrays of x, y, z coordinates under the isometric rotation chain model\n",
    "    Parameters: \n",
    "    blengths (cycle): cycle containing length of each bond in each repeat unit\n",
    "    n_mon (int): number of repeat units in chain\n",
    "    bpm (int): number of bonds in each repeat unit\n",
    "    bangle (int): bond angle between successive backbone species\n",
    "    \n",
    "    Returns:\n",
    "    x, y, z (arrays): arrays containing coordinates for each atom in the polymer chain\n",
    "    \"\"\"\n",
    "    x, y, z = frc(blengths_cycle, 1, 3, bangle)\n",
    "    for i in np.arange(2, n_mon*bpm):\n",
    "        blength = next(blengths_cycle)\n",
    "        axis = np.array([x[i]-x[i-1], y[i]-y[i-1], z[i]-z[i-1]])\n",
    "        axis /= np.sqrt(np.sum(axis**2))\n",
    "        vec = np.array([x[i-1]-x[i-2], y[i-1]-y[i-2], z[i-1]-z[i-2]])\n",
    "        vec /= np.sqrt(np.sum(vec**2))\n",
    "        phi = np.random.choice([0, 2*np.pi/3, 4*np.pi/3], p=[0.5, 0.25, 0.25])\n",
    "        \n",
    "        new_vec = np.cos(phi)*vec + (1-np.cos(phi))*(vec@axis)*axis + np.sin(phi)*np.cross(vec, axis)\n",
    "        \n",
    "        x, y, z = np.append(x, x[i] + new_vec[0]), np.append(y, y[i] + new_vec[1]), np.append(z, z[i] + new_vec[2])\n",
    "        \n",
    "    return x, y, z"
   ]
  },
  {
   "cell_type": "code",
   "execution_count": 5,
   "metadata": {},
   "outputs": [],
   "source": [
    "def simulate_conformation(model, n_mon, chain_formula, bangle=0, params=False):\n",
    "    \"\"\"Process chain formula to identify bond identities and generate arrays of x, y, z coordinates using a call to fjc, frc, or ris\n",
    "    Parameters:\n",
    "    model (str): theoretical model to use when generating conformation\n",
    "    n_mon (int): number of repeat units in chain\n",
    "    chain_formula (str): chemical formula of polymer chain\n",
    "    params (bool): bool value corresponding to whether or not bonds per monomer and bond lengths should be returned\n",
    "    \n",
    "    Returns:\n",
    "    x_coords, y_coords, z_coords (arrays): arrays containing coordinates for each atom in the polymer chain\n",
    "        If params passed as True:\n",
    "        bpm (int): bonds per monomer\n",
    "        blengths (list): lengths of bonds in repeat unit\n",
    "    \"\"\"\n",
    "    assert model in [\"fjc\", \"frc\", \"ris\"], \"Invalid conformational model\"\n",
    "    elements = re.findall(r\"[A-Z][^A-Z]*\", chain_formula)\n",
    "    for element in elements:\n",
    "        assert element in bond_lengths.index, \"Invalid element in polymer backbone\"\n",
    "    bonds = []\n",
    "    for i in np.arange(len(elements)-1):\n",
    "        bonds.append([elements[i], elements[i+1]])\n",
    "    bonds.append([elements[0], elements[-1]])\n",
    "    bpm = len(bonds)\n",
    "    blengths = [bond_lengths.loc[bond[0], bond[1]] for bond in bonds]\n",
    "    blengths_cycle = cycle(blengths)\n",
    "    if model==\"fjc\":\n",
    "        x_coords, y_coords, z_coords = fjc(blengths_cycle, n_mon, bpm)\n",
    "    elif model==\"frc\":\n",
    "        x_coords, y_coords, z_coords = frc(blengths_cycle, n_mon, bpm, bangle)\n",
    "    elif model==\"ris\":\n",
    "        x_coords, y_coords, z_coords = ris(blengths_cycle, n_mon, bpm, bangle)\n",
    "    if params:\n",
    "        return x_coords, y_coords, z_coords, bpm, blengths\n",
    "    return x_coords, y_coords, z_coords"
   ]
  },
  {
   "cell_type": "markdown",
   "metadata": {},
   "source": [
    "**Modeling single-chain conformational entropy and ideal free energy**"
   ]
  },
  {
   "cell_type": "code",
   "execution_count": 6,
   "metadata": {},
   "outputs": [],
   "source": [
    "def plot_conformation(model, n_mon, chain_formula, bangle):\n",
    "    \"\"\"Generate 3D plot of stimulated conformation annotated with end-to-end distance and entropic spring constant\n",
    "    Parameters:\n",
    "    model (str): theoretical model to use when generating conformation \n",
    "    n_mon (int): number of repeat units in chain\n",
    "    chain_formula (str): chemical formula of polymer chain (eg \"CC\", \"SiO\", etc)\n",
    "    \n",
    "    Returns:\n",
    "    None\n",
    "    \"\"\"\n",
    "    x_coords, y_coords, z_coords, bpm, blengths = simulate_conformation(model, n_mon, chain_formula, bangle, True)\n",
    "    R2 = round(x_coords[-1]**2 + y_coords[-1]**2 + z_coords[-1]**2, 2)\n",
    "    k = ((3*(1.381*10**-23)*298)/((n_mon*bpm)*np.mean(list(blengths))))\n",
    "    conformation = go.Figure(go.Scatter3d(x=x_coords, y=y_coords, z=z_coords, marker={\"size\":0.1}, line={\"width\":2}, name=\"Simulated chain\"))\n",
    "    conformation.add_trace(go.Scatter3d(x=[0, x_coords[-1]], y=[0, y_coords[-1]], z=[0, z_coords[-1]], marker={\"size\":0.1}, line={\"dash\":\"dash\", \"width\":2}, name=\"End-to-end distance\"))\n",
    "    conformation.update_layout(scene={\"xaxis\":{\"backgroundcolor\":\"white\", \"visible\":False}, \"yaxis\":{\"backgroundcolor\":\"white\", \"visible\":False}, \"zaxis\":{\"backgroundcolor\":\"white\", \"visible\":False}}, \n",
    "                               title=\"<b> {} chain simulation under {} model with degree of polymerization {} </b> <br> Squared end-to-end distance: {} Å <br> Entropic spring constant at 298 K: {:.2E} N/Å\".format(chain_formula, model.upper(), n_mon, R2, k))\n",
    "    conformation.show()"
   ]
  },
  {
   "cell_type": "code",
   "execution_count": 7,
   "metadata": {
    "scrolled": false
   },
   "outputs": [],
   "source": [
    "#Create widgets for user interaction\n",
    "plot_output = widgets.Output()\n",
    "\n",
    "model = widgets.Dropdown(options=[(\"Freely Jointed Chain\",\"fjc\"), (\"Freely Rotating Chain\", \"frc\"), (\"Rotational Isometric State\", \"ris\")], description=\"Chain Model:\", layout=widgets.Layout(width='25%'))\n",
    "plot_dp = widgets.IntText(description='Degree Poly:', disabled=False, layout=widgets.Layout(width='15%'))\n",
    "plot_chain_formula = widgets.Text(placeholder='Chemical formula of backbone (eg CC, SiO)', description='Backbone:', disabled=False, layout=widgets.Layout(width='40%'))\n",
    "plot_bangle = widgets.FloatText(description='Bond Angle', disabled=False, layout=widgets.Layout(width='15%'))\n",
    "plot_bangle.layout.visibility = 'hidden'\n",
    "\n",
    "def run_plot_sim(b):\n",
    "    \"\"\"Generate single-chain conformation plot when widget button is pressed\n",
    "    \"\"\"\n",
    "    with plot_output:\n",
    "        plot_output.clear_output()\n",
    "        plot_conformation(model.value, plot_dp.value, plot_chain_formula.value, plot_bangle.value)\n",
    "\n",
    "plot_button = widgets.Button(description='Simulate', disabled=False, button_style='', tooltip='Click me')\n",
    "plot_button.on_click(run_plot_sim)\n",
    "\n",
    "plot_inputs = widgets.HBox([model, plot_dp, plot_chain_formula])\n",
    "\n",
    "def show_angle(mod):\n",
    "    if mod.new != \"fjc\":\n",
    "        plot_bangle.layout.visibility = 'visible'\n",
    "    else:\n",
    "        plot_bangle.layout.visibility = 'hidden'\n",
    "    \n",
    "\n",
    "model.observe(show_angle, names=\"value\") \n",
    "\n",
    "plot_inputs = widgets.HBox([model, plot_dp, plot_chain_formula, plot_bangle])"
   ]
  },
  {
   "cell_type": "markdown",
   "metadata": {},
   "source": [
    "## Simulation of single-chain conformation and entropic spring constant"
   ]
  },
  {
   "cell_type": "code",
   "execution_count": 8,
   "metadata": {},
   "outputs": [
    {
     "data": {
      "application/vnd.jupyter.widget-view+json": {
       "model_id": "3b2c75e9c4b1458aa0d67a5ce2978b91",
       "version_major": 2,
       "version_minor": 0
      },
      "text/plain": [
       "HBox(children=(Dropdown(description='Chain Model:', layout=Layout(width='25%'), options=(('Freely Jointed Chai…"
      ]
     },
     "metadata": {},
     "output_type": "display_data"
    },
    {
     "data": {
      "application/vnd.jupyter.widget-view+json": {
       "model_id": "7034e4a7fd644a7c9f422e2ee1909fae",
       "version_major": 2,
       "version_minor": 0
      },
      "text/plain": [
       "Button(description='Simulate', style=ButtonStyle(), tooltip='Click me')"
      ]
     },
     "metadata": {},
     "output_type": "display_data"
    },
    {
     "data": {
      "application/vnd.jupyter.widget-view+json": {
       "model_id": "8f85b58a52984fc7859bbe07ce89ab41",
       "version_major": 2,
       "version_minor": 0
      },
      "text/plain": [
       "Output()"
      ]
     },
     "metadata": {},
     "output_type": "display_data"
    }
   ],
   "source": [
    "display(plot_inputs)\n",
    "display(plot_button)\n",
    "display(plot_output)"
   ]
  },
  {
   "cell_type": "markdown",
   "metadata": {},
   "source": [
    " \n",
    "  \n",
    "   \n",
    "    \n",
    "     \n",
    "      \n",
    "       \n",
    "       \n",
    "       \n",
    "       \n",
    "       \n",
    "       \n",
    "       \n",
    "       \n",
    "       \n",
    "       \n",
    "       \n",
    "       \n",
    "       \n",
    "       \n",
    "       \n",
    "       \n",
    "       \n",
    "       \n",
    "       "
   ]
  },
  {
   "cell_type": "markdown",
   "metadata": {},
   "source": [
    " "
   ]
  },
  {
   "cell_type": "markdown",
   "metadata": {},
   "source": [
    " "
   ]
  },
  {
   "cell_type": "markdown",
   "metadata": {},
   "source": [
    " "
   ]
  },
  {
   "cell_type": "markdown",
   "metadata": {},
   "source": [
    " "
   ]
  },
  {
   "cell_type": "markdown",
   "metadata": {},
   "source": [
    " "
   ]
  },
  {
   "cell_type": "markdown",
   "metadata": {},
   "source": [
    " "
   ]
  },
  {
   "cell_type": "markdown",
   "metadata": {},
   "source": [
    " "
   ]
  },
  {
   "cell_type": "markdown",
   "metadata": {},
   "source": [
    " "
   ]
  },
  {
   "cell_type": "markdown",
   "metadata": {},
   "source": [
    " "
   ]
  },
  {
   "cell_type": "markdown",
   "metadata": {},
   "source": [
    " "
   ]
  },
  {
   "cell_type": "markdown",
   "metadata": {},
   "source": [
    " "
   ]
  },
  {
   "cell_type": "markdown",
   "metadata": {},
   "source": [
    " "
   ]
  },
  {
   "cell_type": "markdown",
   "metadata": {},
   "source": [
    " "
   ]
  },
  {
   "cell_type": "markdown",
   "metadata": {},
   "source": [
    " "
   ]
  },
  {
   "cell_type": "code",
   "execution_count": 9,
   "metadata": {},
   "outputs": [],
   "source": [
    "def compare_models(n_mon, chain_formula, bangle=0):\n",
    "    \"\"\"Generate side-by-side 3D simulations comparing three theoretical conformation models\n",
    "    Parameters: \n",
    "    n_mon (int): number of repeat units in chain\n",
    "    chain_formula (str): chemical formula of polymer chain (eg \"CC\", \"SiO\", etc)\n",
    "    \n",
    "    Returns:\n",
    "    None\n",
    "    \"\"\"\n",
    "    fig = make_subplots(cols = 3, rows=1, \n",
    "                        specs=[[{\"type\":\"scatter3d\"}, {\"type\":\"scatter3d\"}, {\"type\":\"scatter3d\"}]], \n",
    "                        subplot_titles=[\"Freely Jointed Chain Model\", \"Freely Rotating Chain Model\", \"Rotational Isometric State Model\"])\n",
    "\n",
    "    fjc_x, fjc_y, fjc_z = simulate_conformation(\"fjc\", n_mon, chain_formula)\n",
    "    frc_x, frc_y, frc_z = simulate_conformation(\"frc\", n_mon, chain_formula, bangle)\n",
    "    ris_x, ris_y, ris_z = simulate_conformation(\"ris\", n_mon, chain_formula, bangle) #change to hrc\n",
    "    \n",
    "    fig.add_trace(go.Scatter3d(x=fjc_x, y=fjc_y, z=fjc_z, marker={\"size\":0.1}, line={\"width\":2}), col=1, row=1)\n",
    "    fig.add_trace(go.Scatter3d(x=frc_x, y=frc_y, z=frc_z, marker={\"size\":0.1}, line={\"width\":2}), col=2, row=1)\n",
    "    fig.add_trace(go.Scatter3d(x=ris_x, y=ris_y, z=ris_z, marker={\"size\":0.1}, line={\"width\":2}), col=3, row=1) \n",
    "\n",
    "    fw = go.FigureWidget(fig)\n",
    "    fw.layout.title=\"<b> {} chain simulation with degree of polymerization {} <b>\".format(chain_formula, n_mon)\n",
    "    fw.layout.showlegend=False\n",
    "    fw.layout.scene1={\"xaxis\":{\"backgroundcolor\":\"white\", \"visible\":False}, \"yaxis\":{\"backgroundcolor\":\"white\", \"visible\":False}, \"zaxis\":{\"backgroundcolor\":\"white\", \"visible\":False}}\n",
    "    fw.layout.scene2={\"xaxis\":{\"backgroundcolor\":\"white\", \"visible\":False}, \"yaxis\":{\"backgroundcolor\":\"white\", \"visible\":False}, \"zaxis\":{\"backgroundcolor\":\"white\", \"visible\":False}}\n",
    "    fw.layout.scene3={\"xaxis\":{\"backgroundcolor\":\"white\", \"visible\":False}, \"yaxis\":{\"backgroundcolor\":\"white\", \"visible\":False}, \"zaxis\":{\"backgroundcolor\":\"white\", \"visible\":False}}\n",
    "    fw.show()"
   ]
  },
  {
   "cell_type": "code",
   "execution_count": 10,
   "metadata": {
    "scrolled": false
   },
   "outputs": [],
   "source": [
    "#Create widgets for user interaction\n",
    "compare_output = widgets.Output()\n",
    "\n",
    "compare_dp = widgets.IntText(description='Degree Poly:', disabled=False, layout=widgets.Layout(width='20%'))\n",
    "compare_chain_formula = widgets.Text(placeholder='Chemical formula of backbone (eg CC, SiO)', description='Backbone:', disabled=False, layout=widgets.Layout(width='40%'))\n",
    "compare_bangle = widgets.FloatText(description='Bond Angle', disabled=False, layout=widgets.Layout(width='20%'))\n",
    "\n",
    "def run_compare_sim(b):\n",
    "    \"\"\"Generate side-by-side comparison plots when widget button is pressed\n",
    "    \"\"\"\n",
    "    with compare_output:\n",
    "        compare_output.clear_output()\n",
    "        compare_models(compare_dp.value, compare_chain_formula.value, compare_bangle.value)\n",
    "    \n",
    "compare_button = widgets.Button(description='Simulate', disabled=False, button_style='', tooltip='Click me')\n",
    "compare_button.on_click(run_compare_sim)\n",
    "\n",
    "compare_inputs = widgets.HBox([compare_dp, compare_chain_formula, compare_bangle])"
   ]
  },
  {
   "cell_type": "markdown",
   "metadata": {},
   "source": [
    "## Comparison of conformational models"
   ]
  },
  {
   "cell_type": "code",
   "execution_count": 11,
   "metadata": {},
   "outputs": [
    {
     "data": {
      "application/vnd.jupyter.widget-view+json": {
       "model_id": "d75af39adcd74453a27ef5d9aae12160",
       "version_major": 2,
       "version_minor": 0
      },
      "text/plain": [
       "HBox(children=(IntText(value=0, description='Degree Poly:', layout=Layout(width='20%')), Text(value='', descri…"
      ]
     },
     "metadata": {},
     "output_type": "display_data"
    },
    {
     "data": {
      "application/vnd.jupyter.widget-view+json": {
       "model_id": "e1127729b2c14e0d8799f774b71bb4e2",
       "version_major": 2,
       "version_minor": 0
      },
      "text/plain": [
       "Button(description='Simulate', style=ButtonStyle(), tooltip='Click me')"
      ]
     },
     "metadata": {},
     "output_type": "display_data"
    },
    {
     "data": {
      "application/vnd.jupyter.widget-view+json": {
       "model_id": "eedb985581274dbdb08d47b49a81a143",
       "version_major": 2,
       "version_minor": 0
      },
      "text/plain": [
       "Output()"
      ]
     },
     "metadata": {},
     "output_type": "display_data"
    }
   ],
   "source": [
    "display(compare_inputs)\n",
    "display(compare_button)\n",
    "display(compare_output)"
   ]
  },
  {
   "cell_type": "markdown",
   "metadata": {},
   "source": [
    " \n",
    "  \n",
    "   \n",
    "    \n",
    "     \n",
    "      \n",
    "       \n",
    "       \n",
    "       \n",
    "       \n",
    "       \n",
    "       \n",
    "       \n",
    "       \n",
    "       \n",
    "       \n",
    "       \n",
    "       \n",
    "       \n",
    "       \n",
    "       \n",
    "       \n",
    "       \n",
    "       \n",
    "       "
   ]
  },
  {
   "cell_type": "markdown",
   "metadata": {},
   "source": [
    " "
   ]
  },
  {
   "cell_type": "markdown",
   "metadata": {},
   "source": [
    " "
   ]
  },
  {
   "cell_type": "markdown",
   "metadata": {},
   "source": [
    " "
   ]
  },
  {
   "cell_type": "markdown",
   "metadata": {},
   "source": [
    " "
   ]
  },
  {
   "cell_type": "markdown",
   "metadata": {},
   "source": [
    " "
   ]
  },
  {
   "cell_type": "markdown",
   "metadata": {},
   "source": [
    " "
   ]
  },
  {
   "cell_type": "markdown",
   "metadata": {},
   "source": [
    " "
   ]
  },
  {
   "cell_type": "markdown",
   "metadata": {},
   "source": [
    " "
   ]
  },
  {
   "cell_type": "markdown",
   "metadata": {},
   "source": [
    " "
   ]
  },
  {
   "cell_type": "markdown",
   "metadata": {},
   "source": [
    " "
   ]
  },
  {
   "cell_type": "markdown",
   "metadata": {},
   "source": [
    " "
   ]
  },
  {
   "cell_type": "markdown",
   "metadata": {},
   "source": [
    " "
   ]
  },
  {
   "cell_type": "markdown",
   "metadata": {},
   "source": [
    " "
   ]
  },
  {
   "cell_type": "markdown",
   "metadata": {},
   "source": [
    " "
   ]
  }
 ],
 "metadata": {
  "kernelspec": {
   "display_name": "Python 3",
   "language": "python",
   "name": "python3"
  },
  "language_info": {
   "codemirror_mode": {
    "name": "ipython",
    "version": 3
   },
   "file_extension": ".py",
   "mimetype": "text/x-python",
   "name": "python",
   "nbconvert_exporter": "python",
   "pygments_lexer": "ipython3",
   "version": "3.8.8"
  }
 },
 "nbformat": 4,
 "nbformat_minor": 4
}
