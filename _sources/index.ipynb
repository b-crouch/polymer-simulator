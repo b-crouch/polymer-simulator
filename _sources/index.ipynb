{
 "cells": [
  {
   "cell_type": "markdown",
   "metadata": {},
   "source": [
    "# Simulator for Idealized Polymer Conformations"
   ]
  },
  {
   "cell_type": "markdown",
   "metadata": {},
   "source": [
    "Explain stuff."
   ]
  },
  {
   "cell_type": "code",
   "execution_count": 1,
   "metadata": {
    "tags": [
     "thebe-init",
     "remove-input"
    ]
   },
   "outputs": [],
   "source": [
    "import numpy as np\n",
    "import plotly.express as px\n",
    "from plotly.subplots import make_subplots\n",
    "import plotly.graph_objects as go\n",
    "import pandas as pd\n",
    "import regex as re\n",
    "from itertools import cycle\n",
    "import math\n",
    "import ipywidgets as widgets\n",
    "\n",
    "bond_lengths = pd.read_csv(\"Bond Lengths.csv\", index_col=0)"
   ]
  },
  {
   "cell_type": "code",
   "execution_count": 2,
   "metadata": {
    "tags": [
     "thebe-init",
     "remove-input"
    ]
   },
   "outputs": [],
   "source": [
    "def fjc(blengths, n_mon, bpm):\n",
    "    x, y, z = np.zeros((1, 1)), np.zeros((1, 1)), np.zeros((1, 1))\n",
    "    for i in np.arange(n_mon*bpm):\n",
    "        prev_x, prev_y, prev_z = x[i], y[i], z[i]\n",
    "        blength = next(blengths)\n",
    "        assert not math.isnan(blength), \"No data for bond type\"\n",
    "        new_x = np.random.choice(np.linspace(-blength, blength, 1000))\n",
    "        new_y = np.random.choice(np.linspace(-np.sqrt(blength**2-new_x**2), np.sqrt(blength**2-new_x**2), 1000))\n",
    "        new_z = np.random.choice([-1, 1])*np.sqrt(blength**2-new_x**2-new_y**2)\n",
    "        x, y, z = np.append(x, prev_x+new_x), np.append(y, prev_y+new_y), np.append(z, prev_z+new_z) \n",
    "    return x, y, z\n",
    "\n",
    "def frc(blengths, n_mon, bpm):\n",
    "    x, y, z = np.zeros((1, 1)), np.zeros((1, 1)), np.zeros((1, 1))\n",
    "    for i in np.arange(n_mon*bpm):\n",
    "        prev_x, prev_y, prev_z = x[i], y[i], z[i]\n",
    "        blength = next(blengths)\n",
    "        assert not math.isnan(blength), \"No data for bond type\"\n",
    "        new_y = blength*np.cos(1.23)\n",
    "        new_x = np.random.choice(np.linspace(-blength*np.sin(1.23), blength*np.sin(1.23), 1000))\n",
    "        new_z = np.random.choice([-1, 1])*np.sqrt((blength**2)*((np.sin(1.23))**2) - new_x**2)\n",
    "        x, y, z = np.append(x, prev_x+new_x), np.append(y, prev_y+new_y), np.append(z, prev_z+new_z) \n",
    "    return x, y, z"
   ]
  },
  {
   "cell_type": "code",
   "execution_count": 3,
   "metadata": {
    "tags": [
     "thebe-init",
     "remove-input"
    ]
   },
   "outputs": [],
   "source": [
    "def simulate_conformation(model, n_mon, chain_formula):\n",
    "    assert model in [\"fjc\", \"frc\", \"hrc\"], \"Invalid conformational model\"\n",
    "    elements = re.findall(r\"[A-Z][^A-Z]*\", chain_formula)\n",
    "    for element in elements:\n",
    "        assert element in bond_lengths.index, \"Invalid element in polymer backbone\"\n",
    "    bonds = []\n",
    "    for i in np.arange(len(elements)-1):\n",
    "        bonds.append([elements[i], elements[i+1]])\n",
    "    bonds.append([elements[0], elements[-1]])\n",
    "    bpm = len(bonds)\n",
    "    blengths = cycle([bond_lengths.loc[bond[0], bond[1]] for bond in bonds])\n",
    "    if model==\"fjc\":\n",
    "        x_coords, y_coords, z_coords = fjc(blengths, n_mon, bpm)\n",
    "    elif model==\"frc\":\n",
    "        x_coords, y_coords, z_coords = frc(blengths, n_mon, bpm)\n",
    "    elif model==\"hrc\":\n",
    "        x_coords, y_coords, z_coords = hrc(blengths, n_mon, bpm)\n",
    "    return x_coords, y_coords, z_coords"
   ]
  },
  {
   "cell_type": "markdown",
   "metadata": {},
   "source": [
    "### Modeling single-chain conformational entropy and ideal free energy"
   ]
  },
  {
   "cell_type": "code",
   "execution_count": 4,
   "metadata": {
    "tags": [
     "thebe-init",
     "remove-input"
    ]
   },
   "outputs": [],
   "source": [
    "def plot_conformation(model, n_mon, chain_formula):\n",
    "    x_coords, y_coords, z_coords = simulate_conformation(model, n_mon, chain_formula)\n",
    "    R2 = round(x_coords[-1]**2 + y_coords[-1]**2 + z_coords[-1]**2, 2)\n",
    "    conformation = go.Figure(go.Scatter3d(x=x_coords, y=y_coords, z=z_coords, marker={\"size\":0.1}, line={\"width\":2}, name=\"Simulated chain\"))\n",
    "    conformation.add_trace(go.Scatter3d(x=[0, x_coords[-1]], y=[0, y_coords[-1]], z=[0, z_coords[-1]], marker={\"size\":0.1}, line={\"dash\":\"dash\", \"width\":2}, name=\"End-to-end distance\"))\n",
    "    conformation.update_layout(scene={\"xaxis\":{\"backgroundcolor\":\"white\", \"visible\":False}, \"yaxis\":{\"backgroundcolor\":\"white\", \"visible\":False}, \"zaxis\":{\"backgroundcolor\":\"white\", \"visible\":False}}, \n",
    "                               title=\"{} chain simulation under {} model with degree of polymerization {} <br> Squared end-to-end distance: {} Å\".format(chain_formula, model.upper(), n_mon, R2))\n",
    "    conformation.show()"
   ]
  },
  {
   "cell_type": "code",
   "execution_count": 30,
   "metadata": {
    "scrolled": false,
    "tags": [
     "remove-input"
    ]
   },
   "outputs": [
    {
     "data": {
      "application/vnd.jupyter.widget-view+json": {
       "model_id": "7bf8892cb3964152a347e76dd251a23f",
       "version_major": 2,
       "version_minor": 0
      },
      "text/plain": [
       "HBox(children=(Dropdown(description='Chain Model:', options=(('Freely Jointed Chain', 'fjc'), ('Freely Rotatin…"
      ]
     },
     "metadata": {},
     "output_type": "display_data"
    },
    {
     "data": {
      "application/vnd.jupyter.widget-view+json": {
       "model_id": "9e48cae7b26c47ea822c915999246040",
       "version_major": 2,
       "version_minor": 0
      },
      "text/plain": [
       "Button(description='Simulate', style=ButtonStyle(), tooltip='Click me')"
      ]
     },
     "metadata": {},
     "output_type": "display_data"
    },
    {
     "data": {
      "application/vnd.jupyter.widget-view+json": {
       "model_id": "7dc9291b5ec043de976ff6009b552cd3",
       "version_major": 2,
       "version_minor": 0
      },
      "text/plain": [
       "Output()"
      ]
     },
     "metadata": {},
     "output_type": "display_data"
    }
   ],
   "source": [
    "#generic vs specific polymer????????\n",
    "plot_output = widgets.Output()\n",
    "\n",
    "model = widgets.Dropdown(options=[(\"Freely Jointed Chain\",\"fjc\"), (\"Freely Rotating Chain\", \"frc\")], description=\"Chain Model:\")\n",
    "plot_dp = widgets.IntText(description='Degree Poly:', disabled=False)\n",
    "plot_chain_formula = widgets.Text(placeholder='Chemical formula of backbone', description='Backbone:', disabled=False)\n",
    "\n",
    "def run_plot_sim(b):\n",
    "    with plot_output:\n",
    "        plot_output.clear_output()\n",
    "        plot_conformation(model.value, plot_dp.value, plot_chain_formula.value)\n",
    "    \n",
    "plot_button = widgets.Button(description='Simulate', disabled=False, button_style='', tooltip='Click me')\n",
    "plot_button.on_click(run_plot_sim)\n",
    "\n",
    "plot_inputs = widgets.HBox([model, plot_dp, plot_chain_formula])\n",
    "\n",
    "display(plot_inputs)\n",
    "display(plot_button)\n",
    "display(plot_output)"
   ]
  },
  {
   "cell_type": "markdown",
   "metadata": {},
   "source": [
    "### Comparing conformational models"
   ]
  },
  {
   "cell_type": "code",
   "execution_count": 27,
   "metadata": {
    "tags": [
     "thebe-init",
     "remove-input"
    ]
   },
   "outputs": [],
   "source": [
    "def compare_models(n_mon, chain_formula):\n",
    "    fig = make_subplots(cols = 3, rows=1, \n",
    "                        specs=[[{\"type\":\"scatter3d\"}, {\"type\":\"scatter3d\"}, {\"type\":\"scatter3d\"}]], \n",
    "                        subplot_titles=[\"Freely Jointed Chain Model\", \"Freely Rotating Chain Model\", \"Hindered Rotation Chain Model\"])\n",
    "\n",
    "    fjc_x, fjc_y, fjc_z = simulate_conformation(\"fjc\", n_mon, chain_formula)\n",
    "    frc_x, frc_y, frc_z = simulate_conformation(\"frc\", n_mon, chain_formula)\n",
    "    hrc_x, hrc_y, hrc_z = simulate_conformation(\"frc\", n_mon, chain_formula) #change to hrc\n",
    "    \n",
    "    fig.add_trace(go.Scatter3d(x=fjc_x, y=fjc_y, z=fjc_z, marker={\"size\":0.1}, line={\"width\":2}), col=1, row=1)\n",
    "    fig.add_trace(go.Scatter3d(x=frc_x, y=frc_y, z=frc_z, marker={\"size\":0.1}, line={\"width\":2}), col=2, row=1)\n",
    "    fig.add_trace(go.Scatter3d(x=hrc_x, y=hrc_y, z=hrc_z, marker={\"size\":0.1}, line={\"width\":2}), col=3, row=1) #change to hrc\n",
    "\n",
    "    fw = go.FigureWidget(fig)\n",
    "    fw.layout.title=\"{} chain simulation with degree of polymerization {}\".format(chain_formula, n_mon)\n",
    "    fw.layout.showlegend=False\n",
    "    fw.layout.scene1={\"xaxis\":{\"backgroundcolor\":\"white\", \"visible\":False}, \"yaxis\":{\"backgroundcolor\":\"white\", \"visible\":False}, \"zaxis\":{\"backgroundcolor\":\"white\", \"visible\":False}}\n",
    "    fw.layout.scene2={\"xaxis\":{\"backgroundcolor\":\"white\", \"visible\":False}, \"yaxis\":{\"backgroundcolor\":\"white\", \"visible\":False}, \"zaxis\":{\"backgroundcolor\":\"white\", \"visible\":False}}\n",
    "    fw.layout.scene3={\"xaxis\":{\"backgroundcolor\":\"white\", \"visible\":False}, \"yaxis\":{\"backgroundcolor\":\"white\", \"visible\":False}, \"zaxis\":{\"backgroundcolor\":\"white\", \"visible\":False}}\n",
    "    fw.show()"
   ]
  },
  {
   "cell_type": "code",
   "execution_count": 29,
   "metadata": {
    "tags": [
     "remove-input"
    ]
   },
   "outputs": [
    {
     "data": {
      "application/vnd.jupyter.widget-view+json": {
       "model_id": "8e35bd3bd07c471797159759dd9df180",
       "version_major": 2,
       "version_minor": 0
      },
      "text/plain": [
       "HBox(children=(IntText(value=0, description='Degree Poly:'), Text(value='', description='Backbone:', placehold…"
      ]
     },
     "metadata": {},
     "output_type": "display_data"
    },
    {
     "data": {
      "application/vnd.jupyter.widget-view+json": {
       "model_id": "27a3d27be5834485bea9eb84511c8392",
       "version_major": 2,
       "version_minor": 0
      },
      "text/plain": [
       "Button(description='Simulate', style=ButtonStyle(), tooltip='Click me')"
      ]
     },
     "metadata": {},
     "output_type": "display_data"
    },
    {
     "data": {
      "application/vnd.jupyter.widget-view+json": {
       "model_id": "b1541b8244ab4b56b6f098a7a3abd8b3",
       "version_major": 2,
       "version_minor": 0
      },
      "text/plain": [
       "Output()"
      ]
     },
     "metadata": {},
     "output_type": "display_data"
    }
   ],
   "source": [
    "compare_output = widgets.Output()\n",
    "\n",
    "compare_dp = widgets.IntText(description='Degree Poly:', disabled=False)\n",
    "compare_chain_formula = widgets.Text(placeholder='Chemical formula of backbone', description='Backbone:', disabled=False)\n",
    "\n",
    "def run_compare_sim(b):\n",
    "    with compare_output:\n",
    "        compare_output.clear_output()\n",
    "        compare_models(compare_dp.value, compare_chain_formula.value)\n",
    "    \n",
    "compare_button = widgets.Button(description='Simulate', disabled=False, button_style='', tooltip='Click me')\n",
    "compare_button.on_click(run_compare_sim)\n",
    "\n",
    "compare_inputs = widgets.HBox([compare_dp, compare_chain_formula])\n",
    "\n",
    "display(compare_inputs)\n",
    "display(compare_button)\n",
    "display(compare_output)"
   ]
  }
 ],
 "metadata": {
  "celltoolbar": "Tags",
  "kernelspec": {
   "display_name": "Python 3",
   "language": "python",
   "name": "python3"
  },
  "language_info": {
   "codemirror_mode": {
    "name": "ipython",
    "version": 3
   },
   "file_extension": ".py",
   "mimetype": "text/x-python",
   "name": "python",
   "nbconvert_exporter": "python",
   "pygments_lexer": "ipython3",
   "version": "3.8.3"
  }
 },
 "nbformat": 4,
 "nbformat_minor": 4
}
